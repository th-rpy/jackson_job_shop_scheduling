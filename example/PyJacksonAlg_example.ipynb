{
  "nbformat": 4,
  "nbformat_minor": 0,
  "metadata": {
    "colab": {
      "name": "PyJacksonAlg_example.ipynb",
      "provenance": [],
      "toc_visible": true
    },
    "kernelspec": {
      "name": "python3",
      "display_name": "Python 3"
    },
    "language_info": {
      "name": "python"
    }
  },
  "cells": [
    {
      "cell_type": "markdown",
      "source": [
        "### Install PyJacksonAlgo Library"
      ],
      "metadata": {
        "id": "kllAV4YSxDvF"
      }
    },
    {
      "cell_type": "code",
      "execution_count": null,
      "metadata": {
        "id": "a0T9_kobKwyU",
        "colab": {
          "base_uri": "https://localhost:8080/"
        },
        "outputId": "a14c8c70-1f49-4612-e5e2-b6629259f0d3"
      },
      "outputs": [
        {
          "output_type": "stream",
          "name": "stdout",
          "text": [
            "Looking in indexes: https://pypi.org/simple, https://us-python.pkg.dev/colab-wheels/public/simple/\n",
            "Requirement already satisfied: PyJacksonAlgo==0.1.0 in /usr/local/lib/python3.7/dist-packages (0.1.0)\n"
          ]
        }
      ],
      "source": [
        "# Install ReportLab: for Generate PDF file \n",
        "! pip install -q reportlab\n",
        "\n",
        "# Install numpy : for matrix operations.\n",
        "! pip install -q numpy\n",
        "\n",
        "# Install pandas : for data manipulating.\n",
        "! pip install -q pandas\n",
        "\n",
        "# Install matplotlib : for plotting Gantt Chart.\n",
        "! pip install -q matplotlib\n",
        "\n",
        "# Install PyJacksonAlg library\n",
        "! pip install PyJacksonAlgo==0.1.0"
      ]
    },
    {
      "cell_type": "markdown",
      "source": [
        "### Reading the data : (text file and Json File)"
      ],
      "metadata": {
        "id": "A-Wa1rzyxU3R"
      }
    },
    {
      "cell_type": "code",
      "source": [
        "# Import the Data class to manipulate the data \n",
        "from jacksonpy.JacksonAlgo import Data\n",
        "\n",
        "# Path to the data file : text file named input.txt\n",
        "data_path = \"input.txt\" \n",
        "\n",
        "# create a Data object with the path to the data file\n",
        "d = Data(data_path)  \n",
        "\n",
        "# get the durations: list of list of integers [[J1, dur1, dur2, dur3], [J2, dur1, dur2, dur3] ...]\n",
        "data = (\n",
        "    d.get_job_durations()\n",
        ") \n",
        "\n",
        "# Display the data\n",
        "print(d)"
      ],
      "metadata": {
        "colab": {
          "base_uri": "https://localhost:8080/"
        },
        "id": "0ztQPpObxUfR",
        "outputId": "cd97e8e8-65c5-4eb5-a46a-6f25183a6f4f"
      },
      "execution_count": null,
      "outputs": [
        {
          "output_type": "stream",
          "name": "stdout",
          "text": [
            "Job Shop scheduling with 5 jobs and 3 machines. \n",
            "The durations data: \n",
            "Job i\tdur J/M1\tdur J/M2\tdur J/M3\n",
            "[\t1\t,\t \t7\t,\t \t1\t,\t \t6\t]\n",
            "[\t2\t,\t \t4\t,\t \t3\t,\t \t2\t]\n",
            "[\t3\t,\t \t3\t,\t \t2\t,\t \t4\t]\n",
            "[\t4\t,\t \t8\t,\t \t2\t,\t \t1\t]\n",
            "[\t5\t,\t \t5\t,\t \t1\t,\t \t3\t]\n"
          ]
        }
      ]
    },
    {
      "cell_type": "markdown",
      "source": [
        "### Solving the Job Shop Problem"
      ],
      "metadata": {
        "id": "pxXQtAS_yn44"
      }
    },
    {
      "cell_type": "code",
      "source": [
        "# Import the solver (the Jackson Algorithm) \n",
        "from jacksonpy.JacksonAlgo import JackAlgo\n",
        "\n",
        "# create a solver object with the data \n",
        "al = JackAlgo(data)  \n",
        "\n",
        "# print the problem details\n",
        "print(al)  "
      ],
      "metadata": {
        "colab": {
          "base_uri": "https://localhost:8080/"
        },
        "id": "Snlu1yzeyndr",
        "outputId": "89ed4499-f343-4c8f-8bfe-35f37f8a553a"
      },
      "execution_count": null,
      "outputs": [
        {
          "output_type": "stream",
          "name": "stdout",
          "text": [
            "Your problem is a Job Shop scheduling of 5 tasks through 3 machines.\n"
          ]
        }
      ]
    },
    {
      "cell_type": "code",
      "source": [
        "# Preparing the data for the algorithm\n",
        "preparedData = al.prepareData()  \n",
        "\n",
        "# Get the cmaxVirtual result of the virtual sub-problems (Solving the virtual problems)\n",
        "cmaxVirtual, _, __ = al.get_cmax_virtual(\n",
        "    preparedData\n",
        ")  \n",
        "\n",
        "# Solve the problem and save the result in the result variable\n",
        "result = al.solve(\n",
        "    cmaxVirtual\n",
        ")  \n",
        "\n",
        "# generate a pdf file with the result of the problem and plot the Gantt chart\n",
        "al.generate_pdf_file(\n",
        "    results=result\n",
        ")  "
      ],
      "metadata": {
        "colab": {
          "base_uri": "https://localhost:8080/",
          "height": 346
        },
        "id": "txAjzT5FzGBb",
        "outputId": "d6af61eb-1919-4db1-c287-2f90dfc1b4e4"
      },
      "execution_count": null,
      "outputs": [
        {
          "output_type": "stream",
          "name": "stdout",
          "text": [
            "Solving started... Please wait...\n",
            "\n"
          ]
        },
        {
          "output_type": "stream",
          "name": "stderr",
          "text": [
            "\rSolving Subproblem ... :   0%|           [ time left: ? ]/usr/local/lib/python3.7/dist-packages/matplotlib/backends/backend_agg.py:214: RuntimeWarning: Glyph 9 missing from current font.\n",
            "  font.set_text(s, 0.0, flags=flags)\n",
            "/usr/local/lib/python3.7/dist-packages/matplotlib/backends/backend_agg.py:183: RuntimeWarning: Glyph 9 missing from current font.\n",
            "  font.set_text(s, 0, flags=flags)\n",
            "Solving Subproblem ... : |           [ time left: 00:00 ]"
          ]
        },
        {
          "output_type": "stream",
          "name": "stdout",
          "text": [
            "\n",
            " Done ;) ... \n",
            "\n",
            "The Gantt Chart images are saved in /content/output/ImagesOutput/\n",
            "Generating PDF file...\n",
            "\n",
            "Done ;) ... \n",
            "\n",
            "The PDF file is saved in /content/output/Algo_Cds_Output.pdf\n"
          ]
        },
        {
          "output_type": "stream",
          "name": "stderr",
          "text": [
            "\n"
          ]
        },
        {
          "output_type": "display_data",
          "data": {
            "text/plain": [
              "<Figure size 432x288 with 0 Axes>"
            ]
          },
          "metadata": {}
        }
      ]
    }
  ]
}